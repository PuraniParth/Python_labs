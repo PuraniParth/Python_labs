{
 "cells": [
  {
   "cell_type": "markdown",
   "metadata": {},
   "source": [
    "<a href='https://www.darshan.ac.in/'> <img src='https://www.darshan.ac.in/Content/media/DU_Logo.svg' width=\"250\" height=\"300\"/></a>\n",
    "<pre>\n",
    "<center><b><h1>Python Programming - 2101CS405</b></center>\n",
    "<center><b><h1>Lab - 7</b></center>    \n",
    "<pre>"
   ]
  },
  {
   "cell_type": "markdown",
   "metadata": {},
   "source": [
    "# Functions"
   ]
  },
  {
   "cell_type": "markdown",
   "metadata": {},
   "source": [
    "### 01) WAP to count simple interest using function."
   ]
  },
  {
   "cell_type": "code",
   "execution_count": null,
   "metadata": {},
   "outputs": [],
   "source": []
  },
  {
   "cell_type": "markdown",
   "metadata": {},
   "source": [
    "### 02) WAP that defines a function to add first n numbers."
   ]
  },
  {
   "cell_type": "code",
   "execution_count": 10,
   "metadata": {},
   "outputs": [
    {
     "name": "stdout",
     "output_type": "stream",
     "text": [
      "0\n",
      "1\n",
      "3\n",
      "6\n",
      "10\n",
      "15\n"
     ]
    }
   ],
   "source": [
    "def NNumbers(n):\n",
    "    sum=0\n",
    "    for i in range(0,n+1):\n",
    "        sum=sum+i\n",
    "        print(sum)\n",
    "NNumbers(int(input()))"
   ]
  },
  {
   "cell_type": "markdown",
   "metadata": {},
   "source": [
    "### 03) WAP to find maximum number from given two numbers using function."
   ]
  },
  {
   "cell_type": "code",
   "execution_count": 4,
   "metadata": {},
   "outputs": [
    {
     "name": "stdout",
     "output_type": "stream",
     "text": [
      "94\n"
     ]
    }
   ],
   "source": [
    "def maximum(a, b):\n",
    "    if a >= b:\n",
    "        return a\n",
    "    else:\n",
    "        return b\n",
    "a = int(input())\n",
    "b = int(input())\n",
    "print(maximum(a, b))"
   ]
  },
  {
   "cell_type": "markdown",
   "metadata": {},
   "source": [
    "### 04) WAP that defines a function which returns 1 if the number is prime otherwise return 0."
   ]
  },
  {
   "cell_type": "code",
   "execution_count": 5,
   "metadata": {},
   "outputs": [
    {
     "data": {
      "text/plain": [
       "0"
      ]
     },
     "execution_count": 5,
     "metadata": {},
     "output_type": "execute_result"
    }
   ],
   "source": [
    "def isprime(n):\n",
    "    for i in range(2,n):\n",
    "        if (n%i)==0:\n",
    "            return 0\n",
    "        else:\n",
    "            return 1\n",
    "Number=int(input(\"enter the number\"))\n",
    "isprime(Number)"
   ]
  },
  {
   "cell_type": "markdown",
   "metadata": {},
   "source": [
    "### 05) Write a function called primes that takes an integer value as an argument and returns a list of all prime numbers up to that number."
   ]
  },
  {
   "cell_type": "code",
   "execution_count": 7,
   "metadata": {},
   "outputs": [
    {
     "name": "stdout",
     "output_type": "stream",
     "text": [
      "[2, 3, 5, 7]\n"
     ]
    }
   ],
   "source": [
    "def Primes(number):\n",
    "    primeNumbers = []\n",
    "    for i in range(2,number+1):\n",
    "        for j in range(2,i):\n",
    "            if(i%j==0):\n",
    "                break\n",
    "        else:\n",
    "            primeNumbers.append(i)\n",
    "    print(primeNumbers)\n",
    "number = int(input(\"Enter the number :\"))\n",
    "Primes(number)"
   ]
  },
  {
   "cell_type": "markdown",
   "metadata": {},
   "source": [
    "### 06) WAP to generate Fibonacci series of N given number using function name fibbo. (e.g. 0 1 1 2 3 5 8...)"
   ]
  },
  {
   "cell_type": "code",
   "execution_count": null,
   "metadata": {},
   "outputs": [],
   "source": [
    "def Fibonacci(number):\n",
    "    fibo = [0,1]\n",
    "    answer =[]\n",
    "    for i in range(0,number-2):\n",
    "        temp = fibo[i]+fibo[i+1]\n",
    "        fibo.append(temp)\n",
    "    print(fibo)\n",
    "number = int(input(\"enter the number :\"))\n",
    "Fibonacci(number)"
   ]
  },
  {
   "cell_type": "markdown",
   "metadata": {},
   "source": [
    "### 07) WAP to find the factorial of a given number using recursion."
   ]
  },
  {
   "cell_type": "code",
   "execution_count": 11,
   "metadata": {},
   "outputs": [
    {
     "name": "stdout",
     "output_type": "stream",
     "text": [
      "120\n"
     ]
    }
   ],
   "source": [
    "def factorial(n):\n",
    "    fact=1\n",
    "    for i in range(1,n):\n",
    "        fact=fact*i\n",
    "    return fact\n",
    "print(factorial(6))"
   ]
  },
  {
   "cell_type": "markdown",
   "metadata": {},
   "source": [
    "### 08) WAP to implement simple calculator using lamda function."
   ]
  },
  {
   "cell_type": "code",
   "execution_count": 35,
   "metadata": {},
   "outputs": [
    {
     "name": "stdout",
     "output_type": "stream",
     "text": [
      "25\n"
     ]
    }
   ],
   "source": [
    "a = int(input())\n",
    "b = int(input())\n",
    "ch=int(input(\"enter the operation\"))\n",
    "if ch==1:\n",
    "    print((lambda a,b:a+b)(a,b))\n",
    "if ch==2:\n",
    "    print((lambda a,b:a-b)(a,b))\n",
    "if ch==3:\n",
    "    print((lambda a,b:a*b)(a,b))\n",
    "if ch==4:\n",
    "    print((lambda a,b:a/b)(a,b))"
   ]
  },
  {
   "cell_type": "markdown",
   "metadata": {},
   "source": [
    "### 09)Write a Python program that accepts a hyphen-separated sequence of words as input and prints the words in a hyphen-separated sequence after sorting them alphabetically\n",
    "Sample Items : green-red-yellow-black-white <br>\n",
    "Expected Result : black-green-red-white-yellow"
   ]
  },
  {
   "cell_type": "code",
   "execution_count": 36,
   "metadata": {},
   "outputs": [
    {
     "name": "stdout",
     "output_type": "stream",
     "text": [
      "green-red-yellow\n"
     ]
    }
   ],
   "source": [
    "s=input().split(\"-\")\n",
    "s.sort()\n",
    "print(\"-\".join(s))"
   ]
  },
  {
   "cell_type": "markdown",
   "metadata": {},
   "source": [
    "### 10) Write a python program to implement all function arguments type\n",
    "Positional arguments <Br>\n",
    "Default argument <Br>\n",
    "Keyword arguments (named arguments) <Br>\n",
    "Arbitrary arguments (variable-length arguments args and kwargs)"
   ]
  },
  {
   "cell_type": "code",
   "execution_count": 12,
   "metadata": {},
   "outputs": [
    {
     "name": "stdout",
     "output_type": "stream",
     "text": [
      "10\n"
     ]
    }
   ],
   "source": [
    "# positional \n",
    "\n",
    "def additionOfTwo(a,b):\n",
    "    print(a+b)\n",
    "n1 = int(input(\"enter the number :\"))\n",
    "n2 = int(input(\"enter the number :\"))\n",
    "\n",
    "additionOfTwo(n1,n2)"
   ]
  },
  {
   "cell_type": "code",
   "execution_count": null,
   "metadata": {},
   "outputs": [],
   "source": [
    "# Default argument \n",
    "\n",
    "def additionOfTwo(a,b=30):\n",
    "    print(a+b)\n",
    "n1 = int(input(\"enter the number :\"))\n",
    "n2 = int(input(\"enter the number :\"))\n",
    "\n",
    "additionOfTwo(n1)\n",
    "additionOfTwo(n1,n2)"
   ]
  },
  {
   "cell_type": "markdown",
   "metadata": {},
   "source": [
    "### 01) WAP to calculate power of a number using recursion."
   ]
  },
  {
   "cell_type": "code",
   "execution_count": 43,
   "metadata": {},
   "outputs": [],
   "source": [
    "def power(n=int(input())):\n",
    "    print(n**n)"
   ]
  },
  {
   "cell_type": "markdown",
   "metadata": {},
   "source": [
    "### 02) WAP to count digits of a number using recursion."
   ]
  },
  {
   "cell_type": "code",
   "execution_count": null,
   "metadata": {},
   "outputs": [],
   "source": []
  },
  {
   "cell_type": "markdown",
   "metadata": {},
   "source": [
    "### 03) WAP to reverse an integer number using recursion."
   ]
  },
  {
   "cell_type": "code",
   "execution_count": 35,
   "metadata": {},
   "outputs": [
    {
     "name": "stdout",
     "output_type": "stream",
     "text": [
      "The original list : ['p', 'a', 'r', 't', 'h']\n",
      "first_half=['p', 'r']\n",
      "second_half=['h', 'a', 't']\n"
     ]
    }
   ],
   "source": [
    "s=\"parth\"\n",
    "list2=[]\n",
    "list2.extend(s)\n",
    " \n",
    "print(\"The original list : \" + str(list2))\n",
    " \n",
    "odd_i = []\n",
    "even_i = []\n",
    "for i in range(0, len(list2)):\n",
    "    if i % 2:\n",
    "        even_i.append(list2[i])\n",
    "    else :\n",
    "        odd_i.append(list2[i])\n",
    " \n",
    "res =  odd_i+even_i \n",
    "\n",
    "half_length = len(res) // 2\n",
    "\n",
    "first_half, second_half = res[:half_length], res[half_length:]\n",
    "\n",
    "print(f'{first_half=}')\n",
    "print(f'{second_half=}')\n",
    "\n",
    " "
   ]
  },
  {
   "cell_type": "code",
   "execution_count": 15,
   "metadata": {},
   "outputs": [
    {
     "name": "stdout",
     "output_type": "stream",
     "text": [
      "['p', 'a', 'r', 't', 'h']\n",
      "(0, 'p')\n",
      "(1, 'a')\n",
      "(2, 'r')\n",
      "(3, 't')\n",
      "(4, 'h')\n"
     ]
    }
   ],
   "source": [
    "s=\"parth\"\n",
    "n=int(input())\n",
    "list2=[]\n",
    "list2.extend(s)\n",
    "print(list2)\n",
    "for i in range(0,len(list2)):\n",
    "    if n%2==0:\n",
    "        list3=[i for i in range(0,len(list2) if list2.index())]\n"
   ]
  },
  {
   "cell_type": "markdown",
   "metadata": {},
   "source": [
    "### 04) WAP to convert decimal number into binary using recursion."
   ]
  },
  {
   "cell_type": "code",
   "execution_count": 15,
   "metadata": {},
   "outputs": [
    {
     "ename": "TypeError",
     "evalue": "unhashable type: 'slice'",
     "output_type": "error",
     "traceback": [
      "\u001b[1;31m---------------------------------------------------------------------------\u001b[0m",
      "\u001b[1;31mTypeError\u001b[0m                                 Traceback (most recent call last)",
      "Cell \u001b[1;32mIn[15], line 14\u001b[0m\n\u001b[0;32m     11\u001b[0m     data \u001b[39m=\u001b[39m {\u001b[39m'\u001b[39m\u001b[39mname\u001b[39m\u001b[39m'\u001b[39m:\u001b[39m'\u001b[39m\u001b[39mphoneNumber\u001b[39m\u001b[39m'\u001b[39m}\n\u001b[0;32m     13\u001b[0m     \u001b[39mfor\u001b[39;00m i \u001b[39min\u001b[39;00m \u001b[39mrange\u001b[39m(n\u001b[39m-\u001b[39m\u001b[39m1\u001b[39m):\n\u001b[1;32m---> 14\u001b[0m         data[\u001b[39m'\u001b[39m\u001b[39mname\u001b[39m\u001b[39m'\u001b[39m:\u001b[39minput\u001b[39m()]:data[\u001b[39m'\u001b[39;49m\u001b[39mphoneNumber\u001b[39;49m\u001b[39m'\u001b[39;49m:\u001b[39mint\u001b[39;49m(\u001b[39minput\u001b[39;49m())]\n\u001b[0;32m     17\u001b[0m \u001b[39m# 👇️ {'Alice': '100', 'Bob': '100', 'Carl': '100'}\u001b[39;00m\n\u001b[0;32m     18\u001b[0m \u001b[39mprint\u001b[39m(data)\n",
      "\u001b[1;31mTypeError\u001b[0m: unhashable type: 'slice'"
     ]
    }
   ],
   "source": [
    "import math\n",
    "import os\n",
    "import random\n",
    "import re\n",
    "import sys\n",
    "\n",
    "\n",
    "\n",
    "if __name__ == '__main__':\n",
    "    n = int(input().strip())\n",
    "    data = {'name':'phoneNumber'}\n",
    "\n",
    "    for i in range(n-1):\n",
    "        data['name':input()]:data['phoneNumber':int(input())]\n",
    "\n",
    "\n",
    "# 👇️ {'Alice': '100', 'Bob': '100', 'Carl': '100'}\n",
    "print(data)\n",
    "\n",
    "    "
   ]
  },
  {
   "cell_type": "code",
   "execution_count": 46,
   "metadata": {},
   "outputs": [
    {
     "name": "stdout",
     "output_type": "stream",
     "text": [
      "0b10\n"
     ]
    }
   ],
   "source": [
    "n=int(input())\n",
    "print(bin(n))\n"
   ]
  }
 ],
 "metadata": {
  "kernelspec": {
   "display_name": "Python 3",
   "language": "python",
   "name": "python3"
  },
  "language_info": {
   "codemirror_mode": {
    "name": "ipython",
    "version": 3
   },
   "file_extension": ".py",
   "mimetype": "text/x-python",
   "name": "python",
   "nbconvert_exporter": "python",
   "pygments_lexer": "ipython3",
   "version": "3.11.0"
  },
  "vscode": {
   "interpreter": {
    "hash": "a6a2e081822f8677922e05a0430c407cdc60dbcfe9f9040f45ade223b6af176d"
   }
  }
 },
 "nbformat": 4,
 "nbformat_minor": 4
}
