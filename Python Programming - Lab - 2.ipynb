{
 "cells": [
  {
   "cell_type": "markdown",
   "metadata": {},
   "source": [
    "\n",
    "<a href='https://www.darshan.ac.in/'> <img src='https://www.darshan.ac.in/Content/media/DU_Logo.svg' width=\"250\" height=\"300\"/></a>\n",
    "<pre>\n",
    "<center><b><h1>Python Programming - 2101CS405</b></center>\n",
    "<center><b><h1>Lab - 2</b></center>    \n",
    "<pre>"
   ]
  },
  {
   "cell_type": "markdown",
   "metadata": {},
   "source": [
    "# if..else.."
   ]
  },
  {
   "cell_type": "markdown",
   "metadata": {},
   "source": [
    "### 01) WAP to check whether the given number is positive or negative."
   ]
  },
  {
   "cell_type": "code",
   "execution_count": 1,
   "metadata": {},
   "outputs": [
    {
     "name": "stdout",
     "output_type": "stream",
     "text": [
      "-25 is negative number\n"
     ]
    }
   ],
   "source": [
    "n = int(input(\"Enter number:\"))\n",
    "if n>0:\n",
    " print(n,\"is positive number\")\n",
    "else:\n",
    " print(n,\"is negative number\")\n"
   ]
  },
  {
   "cell_type": "markdown",
   "metadata": {},
   "source": [
    "### 02) WAP to check whether the given number is odd or even"
   ]
  },
  {
   "cell_type": "code",
   "execution_count": 2,
   "metadata": {},
   "outputs": [
    {
     "name": "stdout",
     "output_type": "stream",
     "text": [
      "63 is Odd number\n"
     ]
    }
   ],
   "source": [
    "n = int(input(\"Enter number:\"))\n",
    "if n%2==0:\n",
    " print(n,\"is Even number\")\n",
    "else:\n",
    " print(n,\"is Odd number\")\n"
   ]
  },
  {
   "cell_type": "markdown",
   "metadata": {},
   "source": [
    "### 03) WAP to find out largest number from given two numbers using simple if and ternary operator."
   ]
  },
  {
   "cell_type": "code",
   "execution_count": 3,
   "metadata": {},
   "outputs": [
    {
     "name": "stdout",
     "output_type": "stream",
     "text": [
      "69 is Latgest number\n",
      "69 is largest number\n"
     ]
    }
   ],
   "source": [
    "a = int(input(\"Enter frist number:\"))\n",
    "b = int(input(\"Enter second number:\"))\n",
    "if a>b:\n",
    " print(a,\"is Latgest number\")\n",
    "else:\n",
    " print(b,\"is Latgest number\")\n",
    "#---------------------------------------\n",
    "largest = a if a >b else b\n",
    "print(largest,\"is largest number\")"
   ]
  },
  {
   "cell_type": "markdown",
   "metadata": {},
   "source": [
    "### 04) WAP to find out largest number from given three numbers."
   ]
  },
  {
   "cell_type": "code",
   "execution_count": 4,
   "metadata": {},
   "outputs": [
    {
     "name": "stdout",
     "output_type": "stream",
     "text": [
      "3056 is largest number\n"
     ]
    }
   ],
   "source": [
    "a = int(input(\"Enter frist number:\"))\n",
    "b = int(input(\"Enter second number:\"))\n",
    "c = int(input(\"Enter third number:\"))\n",
    "if a>b:\n",
    " if a>c:\n",
    "    print(a,\"is largest number\")\n",
    " else:\n",
    "    print(c,\"is largest number\")\n",
    "if b>c:\n",
    "    print(b,\"is largest number\")\n",
    "else:\n",
    "    print(c,\"is largest number\")\n",
    "\n"
   ]
  },
  {
   "cell_type": "markdown",
   "metadata": {},
   "source": [
    "### 05) WAP to check whether the given year is leap year or not.\n",
    "[If a year can be divisible by 4 but not divisible by 100 then it is leap year but if it is divisible by 400 then it is leap year]"
   ]
  },
  {
   "cell_type": "code",
   "execution_count": 5,
   "metadata": {},
   "outputs": [
    {
     "name": "stdout",
     "output_type": "stream",
     "text": [
      "25 is not Leap year\n"
     ]
    }
   ],
   "source": [
    "year = int(input(\"Enter year to cheak leap year or not:\"))\n",
    "if year%4==0:\n",
    " print(year,\"is Leap year\")\n",
    "elif year%100!=0:\n",
    " print(year,\"is not Leap year\")\n",
    "elif year%400==0:\n",
    " print(year,\"is Leap year\")\n",
    "else:\n",
    " print(year,\"is not Leap year\")\n"
   ]
  },
  {
   "cell_type": "markdown",
   "metadata": {},
   "source": [
    "### 06) WAP in python to display the name of the day according to the number given by the user"
   ]
  },
  {
   "cell_type": "code",
   "execution_count": 7,
   "metadata": {},
   "outputs": [
    {
     "name": "stdout",
     "output_type": "stream",
     "text": [
      "Thursday\n"
     ]
    }
   ],
   "source": [
    "n = int(input(\"Enter number between(1-7):\"))\n",
    "if n==1:\n",
    " print(\"Monday\")\n",
    "elif n==2:\n",
    " print(\"Tuesday\")\n",
    "elif n==3:\n",
    " print(\"Wednesday\")\n",
    "elif n==4:\n",
    " print(\"Thursday\")\n",
    "elif n==5:\n",
    " print(\"Friday\")\n",
    "elif n==6:\n",
    " print(\"Satursday\")\n",
    "elif n==7:\n",
    " print(\"Sunday!! Weekend vibes\")\n",
    "else:\n",
    " print(\"Invalid!\")"
   ]
  },
  {
   "cell_type": "markdown",
   "metadata": {},
   "source": [
    "### 07) WAP to implement simple calculator which performs (add,sub,mul,div) of two no. based on user input."
   ]
  },
  {
   "cell_type": "code",
   "execution_count": 1,
   "metadata": {},
   "outputs": [
    {
     "name": "stdout",
     "output_type": "stream",
     "text": [
      "30\n"
     ]
    }
   ],
   "source": [
    "a=int(input(\"enter a=\"))\n",
    "b=int(input(\"enter b=\"))\n",
    "input=int(input(\"enter 1 for addition,2 for sub,3 for multi,4 for div\"))\n",
    "c=a+b\n",
    "d=a-b\n",
    "e=a*b\n",
    "f=a/b\n",
    "if input==1:\n",
    "  print(c)\n",
    "elif input==2:\n",
    "  print(d)\n",
    "elif input==3:\n",
    "  print(e)\n",
    "elif input==4:\n",
    "  print(f)"
   ]
  },
  {
   "cell_type": "markdown",
   "metadata": {},
   "source": [
    "### 08) WAP to calculate electricity bill based on following criteria. Which takes the unit from the user.\n",
    "a. First 1 to 50 units – Rs. 2.60/unit</br>\n",
    "b. Next 50 to 100 units – Rs. 3.25/unit</br>\n",
    "c. Next 100 to 200 units – Rs. 5.26/unit</br>\n",
    "d. above 200 units – Rs. 8.45/unit"
   ]
  },
  {
   "cell_type": "code",
   "execution_count": 8,
   "metadata": {},
   "outputs": [
    {
     "name": "stdout",
     "output_type": "stream",
     "text": [
      "Rs. 2.60/unit\n"
     ]
    }
   ],
   "source": [
    "u = int(input(\"Enter Unit:\"))\n",
    "if u<=1 or u<50:\n",
    " print(\"Rs. 2.60/unit\")\n",
    "elif u<=50 or u<100:\n",
    " print(\"Rs. 3.25/unit\")\n",
    "elif u<=100 or u<200:\n",
    " print(\"Rs. 5.26/unit\")\n",
    "elif u>=200:\n",
    " print(\"Rs. 8.45/unit\")"
   ]
  },
  {
   "cell_type": "markdown",
   "metadata": {},
   "source": [
    "### 01) WAP to read marks of five subjects. Calculate percentage and print class accordingly. \n",
    "Fail below 35 </br>\n",
    "Pass Class between 35 to 45 </br>\n",
    "Second Class</br>\n",
    "between 45 to 60</br>\n",
    "First Class between 60 to 70</br> \n",
    "Distinction if more than 70"
   ]
  },
  {
   "cell_type": "code",
   "execution_count": null,
   "metadata": {},
   "outputs": [],
   "source": [
    "\n",
    "maths=float(input(\"enter marks=\"))\n",
    "phy=float(input(\"enter marks=\"))\n",
    "chem=float(input(\"enter marks=\"))\n",
    "eng=float(input(\"enter marks=\"))\n",
    "comp=float(input(\"enter marks=\"))\n",
    "percentage=(maths+phy+chem+eng+comp)/5.0\n",
    "if 35<percentage and percentage<45:\n",
    "    print(\"pass\")\n",
    "elif 45<percentage and percentage<60:\n",
    "    print(\"pass\")\n",
    "elif 60<percentage and percentage<70:\n",
    "    print(\"first class\")\n",
    "elif 70<percentage:\n",
    "    print(\"distinction\")\n",
    "else :\n",
    "    print(\"dkjfi\")\n"
   ]
  },
  {
   "cell_type": "markdown",
   "metadata": {},
   "source": [
    "### 02) WAP to find out the Maximum and Minimum number from given 4 numbers."
   ]
  },
  {
   "cell_type": "code",
   "execution_count": 9,
   "metadata": {},
   "outputs": [
    {
     "name": "stdout",
     "output_type": "stream",
     "text": [
      "96 is Maximum Number\n",
      "25 is Minimum Number\n"
     ]
    }
   ],
   "source": [
    "num1 =int(input(\"Enter Num 1:\"))\n",
    "num2 =int(input(\"Enter Num 2:\"))\n",
    "num3 =int(input(\"Enter Num 3:\"))\n",
    "num4 =int(input(\"Enter Num 4:\"))\n",
    "if (num1>num2):\n",
    " a1=num1\n",
    " x1=num2\n",
    "else:\n",
    " a1=num2\n",
    " x1=num1\n",
    "if (num3>num4):\n",
    " a2=num3\n",
    " x2=num4\n",
    "else:\n",
    " a2=num4\n",
    " x2=num3\n",
    "if(a1>a2 or x1>x2):\n",
    " print(str(a1) + \" is Maximum Number\")\n",
    " print(str(x2) + \" is Minimum Number\")\n",
    "else:\n",
    " print(str(a2) + \" is Maximum Number\")\n",
    " print(str(x1) + \" is Minimum Number\")"
   ]
  },
  {
   "cell_type": "code",
   "execution_count": 17,
   "metadata": {},
   "outputs": [
    {
     "name": "stdout",
     "output_type": "stream",
     "text": [
      "weird\n"
     ]
    }
   ],
   "source": [
    "N = int(input().strip())\n",
    "if N%2!=0:\n",
    "    print('weird')\n",
    "elif N==range(2,6) and N%2!=0 :\n",
    "    print('Not Weird')"
   ]
  },
  {
   "cell_type": "markdown",
   "metadata": {},
   "source": [
    "### 03) WAP to input an integer number and check the last digit of number is even or odd."
   ]
  },
  {
   "cell_type": "code",
   "execution_count": 5,
   "metadata": {},
   "outputs": [
    {
     "name": "stdout",
     "output_type": "stream",
     "text": [
      "Weird\n"
     ]
    }
   ],
   "source": [
    "import math\n",
    "import os\n",
    "import random\n",
    "import re\n",
    "import sys\n",
    "\n",
    "\n",
    "\n",
    "if __name__ == '__main__':\n",
    "    N = int(input().strip())\n",
    "    for i in range(0,N):\n",
    "        if i%2!=0:\n",
    "            print('Weird')\n",
    "        else:\n",
    "            next\n",
    "    if N==range(2,6):\n",
    "            print('Not Weird')"
   ]
  },
  {
   "cell_type": "code",
   "execution_count": 11,
   "metadata": {},
   "outputs": [
    {
     "name": "stdout",
     "output_type": "stream",
     "text": [
      "5 is odd\n"
     ]
    }
   ],
   "source": [
    "n = int(input(\"Enter number:\"))\n",
    "while n!=0:\n",
    " n = n%10\n",
    " last = n\n",
    " n = n/10\n",
    " break;\n",
    "if last%2==0:\n",
    " print(str(last)+ \" is even\")\n",
    "else:\n",
    " print(str(last)+ \" is odd\")\n"
   ]
  },
  {
   "cell_type": "markdown",
   "metadata": {},
   "source": [
    "### 04) WAP to determine the roots of the equation ax2+bx+c=0."
   ]
  },
  {
   "cell_type": "code",
   "execution_count": 13,
   "metadata": {},
   "outputs": [
    {
     "name": "stdout",
     "output_type": "stream",
     "text": [
      "The solution are (-1.25-1.713913650100261j) and (-1.25+1.713913650100261j)\n"
     ]
    }
   ],
   "source": [
    "import cmath\n",
    "a =float(input(\"Enter a:\"))\n",
    "b =float(input(\"Enter b:\"))\n",
    "c =float(input(\"Enter c:\"))\n",
    "d = (b**2) - (4*a*c)\n",
    "sol1 = (-b-cmath.sqrt(d))/(2*a)\n",
    "sol2 = (-b+cmath.sqrt(d))/(2*a)\n",
    "print('The solution are {0} and {1}'.format(sol1,sol2)) "
   ]
  }
 ],
 "metadata": {
  "kernelspec": {
   "display_name": "Python 3.11.0 64-bit",
   "language": "python",
   "name": "python3"
  },
  "language_info": {
   "codemirror_mode": {
    "name": "ipython",
    "version": 3
   },
   "file_extension": ".py",
   "mimetype": "text/x-python",
   "name": "python",
   "nbconvert_exporter": "python",
   "pygments_lexer": "ipython3",
   "version": "3.11.0 (main, Oct 24 2022, 18:26:48) [MSC v.1933 64 bit (AMD64)]"
  },
  "vscode": {
   "interpreter": {
    "hash": "a6a2e081822f8677922e05a0430c407cdc60dbcfe9f9040f45ade223b6af176d"
   }
  }
 },
 "nbformat": 4,
 "nbformat_minor": 4
}
